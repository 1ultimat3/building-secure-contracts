{
 "cells": [
  {
   "cell_type": "markdown",
   "id": "3164f6cb",
   "metadata": {},
   "source": [
    "# Slither Detectors Exercise\n",
    "## Setup"
   ]
  },
  {
   "cell_type": "code",
   "execution_count": 11,
   "id": "bebd4fb3",
   "metadata": {},
   "outputs": [
    {
     "name": "stdout",
     "output_type": "stream",
     "text": [
      "Requirement already satisfied: slither-analyzer in /Users/broccolirob/Work/IRAD/Maker/bsc-env/lib/python3.9/site-packages (0.8.2)\n",
      "Requirement already satisfied: solc-select in /Users/broccolirob/Work/IRAD/Maker/bsc-env/lib/python3.9/site-packages (0.2.1)\n",
      "Requirement already satisfied: pysha3>=1.0.2 in /Users/broccolirob/Work/IRAD/Maker/bsc-env/lib/python3.9/site-packages (from slither-analyzer) (1.0.2)\n",
      "Requirement already satisfied: crytic-compile>=0.2.2 in /Users/broccolirob/Work/IRAD/Maker/bsc-env/lib/python3.9/site-packages (from slither-analyzer) (0.2.2)\n",
      "Requirement already satisfied: prettytable>=0.7.2 in /Users/broccolirob/Work/IRAD/Maker/bsc-env/lib/python3.9/site-packages (from slither-analyzer) (3.2.0)\n",
      "Requirement already satisfied: wcwidth in /Users/broccolirob/Work/IRAD/Maker/bsc-env/lib/python3.9/site-packages (from prettytable>=0.7.2->slither-analyzer) (0.2.5)\n",
      "Installing '0.8.13'...\n",
      "Version '0.8.13' installed.\n",
      "Switched global version to 0.8.13\n",
      "Done\n"
     ]
    }
   ],
   "source": [
    "import sys\n",
    "import os\n",
    "from slither import Slither\n",
    "\n",
    "os.system(\"solc-select install 0.8.13 && solc-select use 0.8.13\")\n",
    "print(\"Done\")"
   ]
  },
  {
   "cell_type": "markdown",
   "id": "66b0526b",
   "metadata": {},
   "source": [
    "## Exercise 1: Function override detection\n",
    "The goal of this exercise is to leverage Slither to ensure that no contract inheriting `Coin` is overriding the `_mint` function.\n",
    "\n",
    "### Proposed algorithm\n",
    "```\n",
    "Get the Coin contract\n",
    "For each contract in the project:\n",
    "    If Coin is in the list of inherited contracts:\n",
    "        Get the _mint function\n",
    "        If the contract declaring the mint function is != Coin:\n",
    "            Return error detected\n",
    "```\n",
    "\n",
    "### Hints\n",
    "- To get a specific contract, use `slither.get_contract_from_name` (note: returns a list)\n",
    "- To get a specific function, use `contract.get_function_from_signature`\n",
    "\n",
    "### Walkthrough\n",
    "Iterate over all the contracts\n",
    "If the contract is derived from MyContract\n",
    "Get the function definition\n",
    "If the function was not declarer by coin, there is a bug!"
   ]
  },
  {
   "cell_type": "code",
   "execution_count": 25,
   "id": "31d8027e",
   "metadata": {},
   "outputs": [],
   "source": [
    "slither = Slither(\"../src/Coin.sol\")\n",
    "coin = slither.get_contract_from_name('Coin')[0]\n",
    "\n",
    "for contract in slither.contracts:\n",
    "    if coin in contract.inheritance:\n",
    "        mint = contract.get_function_from_signature('_mint(address,uint256)')\n",
    "        if mint.contract != coin:\n",
    "            print(f'Error, {contract} overrides {mint}')"
   ]
  },
  {
   "cell_type": "markdown",
   "id": "7699e948",
   "metadata": {},
   "source": [
    "## Exercise 2: Access control detection\n",
    "A frequently seen mistake is to forget to add a particular modifier to a critical function in order to limit access. The goal of this exercise is to leverage Slither to broadly detect `public` and `external` functions calls that are missing the `onlyOwner` modifier.\n",
    "\n",
    "## Proposed Algorithm\n",
    "```\n",
    "Create a whitelist of signatures\n",
    "Explore all the functions\n",
    "    If the function is in the whitelist of signatures:\n",
    "        Skip\n",
    "    If the function is public or external:\n",
    "        If onlyOwner is not in the modifiers:\n",
    "            A bug is found\n",
    "```\n",
    "\n",
    "## Walkthrough"
   ]
  },
  {
   "cell_type": "code",
   "execution_count": 17,
   "id": "503b191b",
   "metadata": {},
   "outputs": [
    {
     "name": "stdout",
     "output_type": "stream",
     "text": [
      "totalSupply() is unprotected!\n",
      "transfer(address,uint256) is unprotected!\n",
      "allowance(address,address) is unprotected!\n",
      "approve(address,uint256) is unprotected!\n",
      "transferFrom(address,address,uint256) is unprotected!\n",
      "totalSupply() is unprotected!\n",
      "transfer(address,uint256) is unprotected!\n",
      "allowance(address,address) is unprotected!\n",
      "approve(address,uint256) is unprotected!\n",
      "transferFrom(address,address,uint256) is unprotected!\n",
      "name() is unprotected!\n",
      "symbol() is unprotected!\n",
      "decimals() is unprotected!\n",
      "name() is unprotected!\n",
      "symbol() is unprotected!\n",
      "decimals() is unprotected!\n",
      "totalSupply() is unprotected!\n",
      "transfer(address,uint256) is unprotected!\n",
      "allowance(address,address) is unprotected!\n",
      "approve(address,uint256) is unprotected!\n",
      "transferFrom(address,address,uint256) is unprotected!\n",
      "name() is unprotected!\n",
      "symbol() is unprotected!\n",
      "decimals() is unprotected!\n",
      "totalSupply() is unprotected!\n",
      "transfer(address,uint256) is unprotected!\n",
      "allowance(address,address) is unprotected!\n",
      "approve(address,uint256) is unprotected!\n",
      "transferFrom(address,address,uint256) is unprotected!\n",
      "increaseAllowance(address,uint256) is unprotected!\n",
      "decreaseAllowance(address,uint256) is unprotected!\n",
      "name() is unprotected!\n",
      "symbol() is unprotected!\n",
      "decimals() is unprotected!\n",
      "totalSupply() is unprotected!\n",
      "transfer(address,uint256) is unprotected!\n",
      "allowance(address,address) is unprotected!\n",
      "approve(address,uint256) is unprotected!\n",
      "transferFrom(address,address,uint256) is unprotected!\n",
      "increaseAllowance(address,uint256) is unprotected!\n",
      "decreaseAllowance(address,uint256) is unprotected!\n",
      "name() is unprotected!\n",
      "symbol() is unprotected!\n",
      "decimals() is unprotected!\n",
      "totalSupply() is unprotected!\n",
      "transfer(address,uint256) is unprotected!\n",
      "allowance(address,address) is unprotected!\n",
      "approve(address,uint256) is unprotected!\n",
      "transferFrom(address,address,uint256) is unprotected!\n"
     ]
    }
   ],
   "source": [
    "slither = Slither('../src/Coin.sol')\n",
    "\n",
    "whitelist = ['balanceOf(address)']\n",
    "\n",
    "for contract in slither.contracts:\n",
    "    for function in contract.functions:\n",
    "        if function.full_name in whitelist:\n",
    "            continue\n",
    "        if function.is_constructor:\n",
    "            continue\n",
    "        if function.visibility in ['public', 'external']:\n",
    "            if not 'onlyOwner()' in [m.full_name for m in function.modifiers]:\n",
    "                print(f'{function.full_name} is unprotected!')"
   ]
  },
  {
   "cell_type": "code",
   "execution_count": null,
   "id": "91ddbf72",
   "metadata": {},
   "outputs": [],
   "source": []
  }
 ],
 "metadata": {
  "kernelspec": {
   "display_name": "Python 3 (ipykernel)",
   "language": "python",
   "name": "python3"
  },
  "language_info": {
   "codemirror_mode": {
    "name": "ipython",
    "version": 3
   },
   "file_extension": ".py",
   "mimetype": "text/x-python",
   "name": "python",
   "nbconvert_exporter": "python",
   "pygments_lexer": "ipython3",
   "version": "3.9.13"
  }
 },
 "nbformat": 4,
 "nbformat_minor": 5
}

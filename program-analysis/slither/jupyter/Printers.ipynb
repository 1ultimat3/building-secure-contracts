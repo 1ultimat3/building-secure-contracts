{
 "cells": [
  {
   "cell_type": "markdown",
   "id": "7ebd723a",
   "metadata": {},
   "source": [
    "# Slither Printers Exercise"
   ]
  },
  {
   "cell_type": "markdown",
   "id": "7df2ed88",
   "metadata": {},
   "source": [
    "## Setup"
   ]
  },
  {
   "cell_type": "code",
   "execution_count": null,
   "id": "59374a7f",
   "metadata": {},
   "outputs": [],
   "source": [
    "import sys\n",
    "import os\n",
    "from pprint import pprint \n",
    "\n",
    "!{sys.executable} -m pip install slither-analyzer solc-select\n",
    "\n",
    "# Tell solc-select to use a particular version of solc.\n",
    "os.system(\"solc-select install 0.8.13 && solc-select use 0.8.13\")\n",
    "\n",
    "from slither import Slither\n",
    "slither_object = Slither(\"../src/Coin.sol\")"
   ]
  },
  {
   "cell_type": "markdown",
   "id": "51248684",
   "metadata": {},
   "source": [
    "The goal of this exercise is to construct a rudimentary printer using Slither's API in simple Python script."
   ]
  },
  {
   "cell_type": "code",
   "execution_count": null,
   "id": "8d7cb91b",
   "metadata": {},
   "outputs": [],
   "source": [
    "from slither import Slither\n",
    "\n",
    "# Init slither\n",
    "slither = Slither('../src/Coin.sol')\n",
    "\n",
    "for contract in slither.contracts:\n",
    "    # Print the contract's name\n",
    "    print(f'Contract: {contract.name}')\n",
    "    # Print the name of the contract inherited\n",
    "    print(f'\\tInherit from{[c.name for c in contract.inheritance]}')\n",
    "    for function in contract.functions:\n",
    "        # For each function, print basic information\n",
    "        print(f'\\t{function.full_name}:')\n",
    "        print(f'\\t\\tVisibility: {function.visibility}')\n",
    "        print(f'\\t\\tContract: {function.contract}')\n",
    "        print(f'\\t\\tModifier: {[m.name for m in function.modifiers]}')\n",
    "        print(f'\\t\\tIs constructor? {function.is_constructor}')"
   ]
  }
 ],
 "metadata": {
  "kernelspec": {
   "display_name": "Python 3.9.13 64-bit",
   "language": "python",
   "name": "python3"
  },
  "language_info": {
   "codemirror_mode": {
    "name": "ipython",
    "version": 3
   },
   "file_extension": ".py",
   "mimetype": "text/x-python",
   "name": "python",
   "nbconvert_exporter": "python",
   "pygments_lexer": "ipython3",
   "version": "3.9.13"
  },
  "vscode": {
   "interpreter": {
    "hash": "de09e224044435a231aa53c0f0da781e7e0db4b67cf22164bcc8150c94bf67d7"
   }
  }
 },
 "nbformat": 4,
 "nbformat_minor": 5
}

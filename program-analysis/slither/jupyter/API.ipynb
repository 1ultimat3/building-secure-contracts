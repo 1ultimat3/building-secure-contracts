{
 "cells": [
  {
   "cell_type": "markdown",
   "id": "0d1ef8d1",
   "metadata": {},
   "source": [
    "# Exploring Slither's API\n",
    "- [Slither](#The-Slither-Object)\n",
    "- [Contract](#The-Contract-Object)\n",
    "- [Function](#The-Function-Object)"
   ]
  },
  {
   "cell_type": "code",
   "execution_count": 1,
   "id": "7a799e9b",
   "metadata": {},
   "outputs": [
    {
     "name": "stdout",
     "output_type": "stream",
     "text": [
      "Requirement already satisfied: slither-analyzer in /Users/broccolirob/Work/IRAD/Maker/bsc-env/lib/python3.9/site-packages (0.8.2)\n",
      "Requirement already satisfied: solc-select in /Users/broccolirob/Work/IRAD/Maker/bsc-env/lib/python3.9/site-packages (0.2.1)\n",
      "Requirement already satisfied: prettytable>=0.7.2 in /Users/broccolirob/Work/IRAD/Maker/bsc-env/lib/python3.9/site-packages (from slither-analyzer) (3.2.0)\n",
      "Requirement already satisfied: pysha3>=1.0.2 in /Users/broccolirob/Work/IRAD/Maker/bsc-env/lib/python3.9/site-packages (from slither-analyzer) (1.0.2)\n",
      "Requirement already satisfied: crytic-compile>=0.2.2 in /Users/broccolirob/Work/IRAD/Maker/bsc-env/lib/python3.9/site-packages (from slither-analyzer) (0.2.2)\n",
      "Requirement already satisfied: wcwidth in /Users/broccolirob/Work/IRAD/Maker/bsc-env/lib/python3.9/site-packages (from prettytable>=0.7.2->slither-analyzer) (0.2.5)\n",
      "Installing '0.8.13'...\n",
      "Version '0.8.13' installed.\n",
      "Switched global version to 0.8.13\n"
     ]
    }
   ],
   "source": [
    "import sys\n",
    "import os\n",
    "from pprint import pprint \n",
    "from slither import Slither\n",
    "\n",
    "# Tell solc-select to use a particular version of solc.\n",
    "os.system(\"solc-select install 0.8.13 && solc-select use 0.8.13\")\n",
    "\n",
    "slither_object = Slither(\"../src/Coin.sol\")"
   ]
  },
  {
   "cell_type": "markdown",
   "id": "1faaa988",
   "metadata": {},
   "source": [
    "## The Slither Object\n",
    "The top-level Slither object returned by analyzing a single contract or an entire directory of contracts."
   ]
  },
  {
   "cell_type": "markdown",
   "id": "0608f489",
   "metadata": {},
   "source": [
    "### `Slither.contracts -> list(Contract)` \n",
    "Attribute that returns a list of analyzed contracts."
   ]
  },
  {
   "cell_type": "code",
   "execution_count": 2,
   "id": "20fb4679",
   "metadata": {},
   "outputs": [
    {
     "name": "stdout",
     "output_type": "stream",
     "text": [
      "['Context', 'IERC20', 'IERC20Metadata', 'ERC20', 'Coin']\n"
     ]
    }
   ],
   "source": [
    "contracts = slither_object.contracts\n",
    "print([c.name for c in contracts])"
   ]
  },
  {
   "cell_type": "markdown",
   "id": "f8df594f",
   "metadata": {},
   "source": [
    "### `Slither.contracts_derived -> list(Contract)`\n",
    "Attribute that returns a list of contracts that are not inherited by another contract."
   ]
  },
  {
   "cell_type": "code",
   "execution_count": 3,
   "id": "068bcd8e",
   "metadata": {},
   "outputs": [
    {
     "name": "stdout",
     "output_type": "stream",
     "text": [
      "['Coin']\n"
     ]
    }
   ],
   "source": [
    "contracts_derived = slither_object.contracts_derived\n",
    "print([cd.name for cd in contracts_derived])"
   ]
  },
  {
   "cell_type": "markdown",
   "id": "89b2e96f",
   "metadata": {},
   "source": [
    "### `Slither.get_contract_from_name(contract_name) -> list(Contract)`\n",
    "Method that returns a list of contracts matching *contract_name*."
   ]
  },
  {
   "cell_type": "code",
   "execution_count": 4,
   "id": "abc6e06d",
   "metadata": {},
   "outputs": [
    {
     "name": "stdout",
     "output_type": "stream",
     "text": [
      "['Coin']\n"
     ]
    }
   ],
   "source": [
    "contract_from_name = slither_object.get_contract_from_name(\"Coin\")\n",
    "print([cfn.name for cfn in contract_from_name])"
   ]
  },
  {
   "cell_type": "markdown",
   "id": "2d25fac8",
   "metadata": {},
   "source": [
    "## The Contract Object"
   ]
  },
  {
   "cell_type": "markdown",
   "id": "f9cf3e64",
   "metadata": {},
   "source": [
    "### `Contract.name -> str`\n",
    "Attribute that returns a contract's declared name."
   ]
  },
  {
   "cell_type": "code",
   "execution_count": 5,
   "id": "e064546d",
   "metadata": {},
   "outputs": [
    {
     "name": "stdout",
     "output_type": "stream",
     "text": [
      "Coin\n"
     ]
    }
   ],
   "source": [
    "contract = slither_object.get_contract_from_name(\"Coin\")[0]\n",
    "print(contract.name)"
   ]
  },
  {
   "cell_type": "markdown",
   "id": "3ca0a15f",
   "metadata": {},
   "source": [
    "### `Contract.state_variables -> list(StateVariable)`\n",
    "Attribute that returns a list of state variables declared on the called contract."
   ]
  },
  {
   "cell_type": "code",
   "execution_count": 6,
   "id": "1003709a",
   "metadata": {},
   "outputs": [
    {
     "name": "stdout",
     "output_type": "stream",
     "text": [
      "['_balances', '_allowances', '_totalSupply', '_name', '_symbol', 'records']\n"
     ]
    }
   ],
   "source": [
    "state_variables = contract.state_variables\n",
    "print([sv.name for sv in state_variables])"
   ]
  },
  {
   "cell_type": "markdown",
   "id": "97aa775e",
   "metadata": {},
   "source": [
    "### `Contract.functions -> list(FunctionContract)`\n",
    "Attribute that returns a list of functions declared on the called contract."
   ]
  },
  {
   "cell_type": "code",
   "execution_count": 7,
   "id": "92c02071",
   "metadata": {},
   "outputs": [
    {
     "name": "stdout",
     "output_type": "stream",
     "text": [
      "['constructor', 'name', 'symbol', 'decimals', 'totalSupply', 'balanceOf', 'transfer', 'allowance', 'approve', 'transferFrom', 'increaseAllowance', 'decreaseAllowance', '_transfer', '_mint', '_burn', '_approve', '_spendAllowance', '_beforeTokenTransfer', '_afterTokenTransfer', 'name', 'symbol', 'decimals', 'totalSupply', 'balanceOf', 'transfer', 'allowance', 'approve', 'transferFrom', '_msgSender', '_msgData', 'constructor', '_mint']\n"
     ]
    }
   ],
   "source": [
    "functions = contract.functions\n",
    "print([f.name for f in functions])"
   ]
  },
  {
   "cell_type": "markdown",
   "id": "e1121393",
   "metadata": {},
   "source": [
    "### `Contract.modifiers -> list(Modifier)`\n",
    "Attribute that returns a list of modifiers declared on the called contract."
   ]
  },
  {
   "cell_type": "code",
   "execution_count": 8,
   "id": "66725d7a",
   "metadata": {},
   "outputs": [
    {
     "name": "stdout",
     "output_type": "stream",
     "text": [
      "[]\n"
     ]
    }
   ],
   "source": [
    "modifiers = contract.modifiers\n",
    "print(modifiers)"
   ]
  },
  {
   "cell_type": "markdown",
   "id": "39ffad4a",
   "metadata": {},
   "source": [
    "### `Contract.events -> list(Event)`\n",
    "Attribute that returns a list of modifiers declared on the called contract."
   ]
  },
  {
   "cell_type": "code",
   "execution_count": 9,
   "id": "9afe3124",
   "metadata": {},
   "outputs": [
    {
     "name": "stdout",
     "output_type": "stream",
     "text": [
      "['Transfer', 'Approval', 'Mint']\n"
     ]
    }
   ],
   "source": [
    "events = contract.events\n",
    "print([ev.name for ev in events])"
   ]
  },
  {
   "cell_type": "markdown",
   "id": "00ff045e",
   "metadata": {},
   "source": [
    "### `Contract.custom_errors -> list(CustomError)`\n",
    "Attribute that returns a list of custom errors declared on the called contract."
   ]
  },
  {
   "cell_type": "code",
   "execution_count": 10,
   "id": "65e0e722",
   "metadata": {},
   "outputs": [
    {
     "name": "stdout",
     "output_type": "stream",
     "text": [
      "[]\n"
     ]
    }
   ],
   "source": [
    "errors = contract.custom_errors\n",
    "print(errors)"
   ]
  },
  {
   "cell_type": "markdown",
   "id": "7c02dd88",
   "metadata": {},
   "source": [
    "### `Contract.structures -> list(StructureContract)`\n",
    "Attribute that returns a list of structs declared on the called contract."
   ]
  },
  {
   "cell_type": "code",
   "execution_count": 11,
   "id": "cb3ebec6",
   "metadata": {},
   "outputs": [
    {
     "name": "stdout",
     "output_type": "stream",
     "text": [
      "[<slither.core.declarations.structure_contract.StructureContract object at 0x11015d340>]\n"
     ]
    }
   ],
   "source": [
    "structs = contract.structures\n",
    "print(structs)"
   ]
  },
  {
   "cell_type": "markdown",
   "id": "a7807edf",
   "metadata": {},
   "source": [
    "### `Contract.enums -> list(Enum)`\n",
    "Attribute that returns a list of enums declared on the called contract."
   ]
  },
  {
   "cell_type": "code",
   "execution_count": 12,
   "id": "6081a488",
   "metadata": {},
   "outputs": [
    {
     "name": "stdout",
     "output_type": "stream",
     "text": [
      "[]\n"
     ]
    }
   ],
   "source": [
    "enums = contract.enums\n",
    "print(enums)"
   ]
  },
  {
   "cell_type": "markdown",
   "id": "a4b2ba65",
   "metadata": {},
   "source": [
    "### `Contract.inheritance -> list(Contract)`\n",
    "Attribute that returns a list of contracts inherited by the called contract."
   ]
  },
  {
   "cell_type": "code",
   "execution_count": 13,
   "id": "0882a055",
   "metadata": {},
   "outputs": [
    {
     "name": "stdout",
     "output_type": "stream",
     "text": [
      "['ERC20', 'IERC20Metadata', 'IERC20', 'Context']\n"
     ]
    }
   ],
   "source": [
    "print([ci.name for ci in contract.inheritance])"
   ]
  },
  {
   "cell_type": "markdown",
   "id": "373618c8",
   "metadata": {},
   "source": [
    "### `Contract.all_functions_called -> list(FunctionContract)`\n",
    "Attribute that returns a list of functions declared on the called contract."
   ]
  },
  {
   "cell_type": "code",
   "execution_count": 14,
   "id": "0d5aac9b",
   "metadata": {},
   "outputs": [
    {
     "name": "stdout",
     "output_type": "stream",
     "text": [
      "['_afterTokenTransfer', '_spendAllowance', '_msgData', 'decreaseAllowance', 'transferFrom', 'decimals', 'allowance', 'constructor', 'constructor', 'totalSupply', '_burn', 'constructor', '_transfer', '_msgSender', '_beforeTokenTransfer', 'increaseAllowance', 'name', '_mint', 'balanceOf', 'approve', '_approve', 'transfer', 'symbol']\n"
     ]
    }
   ],
   "source": [
    "print([f.name for f in contract.all_functions_called])"
   ]
  },
  {
   "cell_type": "markdown",
   "id": "da070454",
   "metadata": {},
   "source": [
    "## The Function Object"
   ]
  },
  {
   "cell_type": "markdown",
   "id": "4f24cd82",
   "metadata": {},
   "source": [
    "### `FunctionContract.name -> str`\n",
    "Attribute that returns a function's declared name."
   ]
  },
  {
   "cell_type": "code",
   "execution_count": 15,
   "id": "18abd242",
   "metadata": {},
   "outputs": [
    {
     "name": "stdout",
     "output_type": "stream",
     "text": [
      "_mint\n"
     ]
    }
   ],
   "source": [
    "function = functions[-1]\n",
    "print(function.name)"
   ]
  },
  {
   "cell_type": "markdown",
   "id": "3048597b",
   "metadata": {},
   "source": [
    "### `FunctionContract.contract -> Contract`\n",
    "Attribute that returns the Contract instance of the calling function."
   ]
  },
  {
   "cell_type": "code",
   "execution_count": 16,
   "id": "fd977432",
   "metadata": {},
   "outputs": [
    {
     "name": "stdout",
     "output_type": "stream",
     "text": [
      "Coin\n"
     ]
    }
   ],
   "source": [
    "print(function.contract)"
   ]
  },
  {
   "cell_type": "markdown",
   "id": "8390d7e8",
   "metadata": {},
   "source": [
    "### `FunctionContract.nodes -> list(Node)`\n",
    "Attribute that returns a list of CFG nodes for the calling function."
   ]
  },
  {
   "cell_type": "code",
   "execution_count": 17,
   "id": "360f72d1",
   "metadata": {},
   "outputs": [
    {
     "name": "stdout",
     "output_type": "stream",
     "text": [
      "['ENTRY_POINT', 'EXPRESSION records.push(MintRecord(to,amount))', 'EXPRESSION Mint(to,amount)']\n"
     ]
    }
   ],
   "source": [
    "print([str(n) for n in function.nodes])"
   ]
  },
  {
   "cell_type": "markdown",
   "id": "cbe514fc",
   "metadata": {},
   "source": [
    "### `FunctionContract.entry_point -> Node`\n",
    "Attribute that returns the entry point node of the CFG for the calling function."
   ]
  },
  {
   "cell_type": "code",
   "execution_count": 18,
   "id": "52d3189a",
   "metadata": {},
   "outputs": [
    {
     "name": "stdout",
     "output_type": "stream",
     "text": [
      "ENTRY_POINT\n"
     ]
    }
   ],
   "source": [
    "print(function.entry_point)"
   ]
  },
  {
   "cell_type": "markdown",
   "id": "2cac530a",
   "metadata": {},
   "source": [
    "### `FunctionContract.variables_read -> list(LocalVariable)`\n",
    "Attribute that returns a list of variables read in the calling function."
   ]
  },
  {
   "cell_type": "code",
   "execution_count": 19,
   "id": "59c6d30c",
   "metadata": {},
   "outputs": [
    {
     "name": "stdout",
     "output_type": "stream",
     "text": [
      "['amount', 'records', 'to']\n"
     ]
    }
   ],
   "source": [
    "print([vr.name for vr in function.variables_read])"
   ]
  },
  {
   "cell_type": "markdown",
   "id": "9cf272c9",
   "metadata": {},
   "source": [
    "### `FunctionContract.variables_written -> list(LocalVariable)`\n",
    "Attribute that returns a list of variables written to in the calling function."
   ]
  },
  {
   "cell_type": "code",
   "execution_count": 20,
   "id": "09988ae1",
   "metadata": {},
   "outputs": [
    {
     "name": "stdout",
     "output_type": "stream",
     "text": [
      "['records']\n"
     ]
    }
   ],
   "source": [
    "print([vw.name for vw in function.variables_written])"
   ]
  },
  {
   "cell_type": "markdown",
   "id": "629deb2c",
   "metadata": {},
   "source": [
    "### `FunctionContract.state_variables_read -> list(StateVariable)`\n",
    "Attribute that returns a list of state variables read in the calling function."
   ]
  },
  {
   "cell_type": "code",
   "execution_count": 21,
   "id": "03ff4d8d",
   "metadata": {},
   "outputs": [
    {
     "name": "stdout",
     "output_type": "stream",
     "text": [
      "['records']\n"
     ]
    }
   ],
   "source": [
    "print([svr.name for svr in function.state_variables_read])"
   ]
  },
  {
   "cell_type": "markdown",
   "id": "7680504b",
   "metadata": {},
   "source": [
    "### `FunctionContract.state_variables_written -> list(StateVariable)`\n",
    "Attribute that returns a list of state variables written to in the calling function."
   ]
  },
  {
   "cell_type": "code",
   "execution_count": 22,
   "id": "4354e810",
   "metadata": {},
   "outputs": [
    {
     "name": "stdout",
     "output_type": "stream",
     "text": [
      "['records']\n"
     ]
    }
   ],
   "source": [
    "print([svw.name for svw in function.state_variables_written])"
   ]
  }
 ],
 "metadata": {
  "kernelspec": {
   "display_name": "Python 3 (ipykernel)",
   "language": "python",
   "name": "python3"
  },
  "language_info": {
   "codemirror_mode": {
    "name": "ipython",
    "version": 3
   },
   "file_extension": ".py",
   "mimetype": "text/x-python",
   "name": "python",
   "nbconvert_exporter": "python",
   "pygments_lexer": "ipython3",
   "version": "3.9.13"
  }
 },
 "nbformat": 4,
 "nbformat_minor": 5
}

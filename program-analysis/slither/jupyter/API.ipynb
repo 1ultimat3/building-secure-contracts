{
 "cells": [
  {
   "cell_type": "markdown",
   "id": "0d1ef8d1",
   "metadata": {},
   "source": [
    "# Exploring Slither's API\n",
    "- Slither Object\n",
    "- Contract\n",
    "- State Variable\n",
    "- Function\n",
    "- Modifier\n",
    "- Event\n",
    "- Error\n",
    "- Struct\n",
    "- Enum"
   ]
  },
  {
   "cell_type": "code",
   "execution_count": 4,
   "id": "7a799e9b",
   "metadata": {},
   "outputs": [
    {
     "name": "stdout",
     "output_type": "stream",
     "text": [
      "Requirement already satisfied: slither-analyzer in /Users/broccolirob/Work/IRAD/Maker/bsc-env/lib/python3.9/site-packages (0.8.2)\n",
      "Requirement already satisfied: solc-select in /Users/broccolirob/Work/IRAD/Maker/bsc-env/lib/python3.9/site-packages (0.2.1)\n",
      "Requirement already satisfied: pysha3>=1.0.2 in /Users/broccolirob/Work/IRAD/Maker/bsc-env/lib/python3.9/site-packages (from slither-analyzer) (1.0.2)\n",
      "Requirement already satisfied: prettytable>=0.7.2 in /Users/broccolirob/Work/IRAD/Maker/bsc-env/lib/python3.9/site-packages (from slither-analyzer) (3.2.0)\n",
      "Requirement already satisfied: crytic-compile>=0.2.2 in /Users/broccolirob/Work/IRAD/Maker/bsc-env/lib/python3.9/site-packages (from slither-analyzer) (0.2.2)\n",
      "Requirement already satisfied: wcwidth in /Users/broccolirob/Work/IRAD/Maker/bsc-env/lib/python3.9/site-packages (from prettytable>=0.7.2->slither-analyzer) (0.2.5)\n",
      "Installing '0.5.11'...\n",
      "Version '0.5.11' installed.\n",
      "Switched global version to 0.5.11\n"
     ]
    }
   ],
   "source": [
    "import sys\n",
    "import os\n",
    "from pprint import pprint \n",
    "from slither import Slither\n",
    "\n",
    "# Pip install slither and solc-select in jupyter kernel env.\n",
    "!{sys.executable} -m pip install slither-analyzer solc-select\n",
    "# Tell solc-select to use a particular version of solc.\n",
    "os.system(\"solc-select install 0.5.11 && solc-select use 0.5.11\")\n",
    "\n",
    "slither_obj = Slither(\"../exercises/exercise1/coin.sol\")"
   ]
  },
  {
   "cell_type": "code",
   "execution_count": 10,
   "id": "f53fe117",
   "metadata": {},
   "outputs": [
    {
     "name": "stdout",
     "output_type": "stream",
     "text": [
      "['__class__',\n",
      " '__delattr__',\n",
      " '__dict__',\n",
      " '__dir__',\n",
      " '__doc__',\n",
      " '__eq__',\n",
      " '__format__',\n",
      " '__ge__',\n",
      " '__getattribute__',\n",
      " '__gt__',\n",
      " '__hash__',\n",
      " '__init__',\n",
      " '__init_subclass__',\n",
      " '__le__',\n",
      " '__lt__',\n",
      " '__module__',\n",
      " '__ne__',\n",
      " '__new__',\n",
      " '__reduce__',\n",
      " '__reduce_ex__',\n",
      " '__repr__',\n",
      " '__setattr__',\n",
      " '__sizeof__',\n",
      " '__str__',\n",
      " '__subclasshook__',\n",
      " '__weakref__',\n",
      " '_compilation_units',\n",
      " '_context',\n",
      " '_contracts',\n",
      " '_contracts_derived',\n",
      " '_crytic_compile',\n",
      " '_currently_seen_resuts',\n",
      " '_detectors',\n",
      " '_disallow_partial',\n",
      " '_exclude_dependencies',\n",
      " '_filename',\n",
      " '_generate_patches',\n",
      " '_markdown_root',\n",
      " '_parsers',\n",
      " '_paths_to_filter',\n",
      " '_previous_results',\n",
      " '_previous_results_filename',\n",
      " '_previous_results_ids',\n",
      " '_printers',\n",
      " '_raw_source_code',\n",
      " '_results_to_hide',\n",
      " '_show_ignored_findings',\n",
      " '_skip_assembly',\n",
      " '_source_code_to_line',\n",
      " '_triage_mode',\n",
      " 'add_compilation_unit',\n",
      " 'add_path_to_filter',\n",
      " 'add_source_code',\n",
      " 'compilation_units',\n",
      " 'context',\n",
      " 'contracts',\n",
      " 'contracts_derived',\n",
      " 'crytic_compile',\n",
      " 'detectors',\n",
      " 'detectors_high',\n",
      " 'detectors_informational',\n",
      " 'detectors_low',\n",
      " 'detectors_medium',\n",
      " 'detectors_optimization',\n",
      " 'disallow_partial',\n",
      " 'filename',\n",
      " 'generate_patches',\n",
      " 'get_contract_from_name',\n",
      " 'has_ignore_comment',\n",
      " 'load_previous_results',\n",
      " 'markdown_root',\n",
      " 'print_functions',\n",
      " 'register_detector',\n",
      " 'register_printer',\n",
      " 'run_detectors',\n",
      " 'run_printers',\n",
      " 'save_results_to_hide',\n",
      " 'show_ignore_findings',\n",
      " 'skip_assembly',\n",
      " 'source_code',\n",
      " 'triage_mode',\n",
      " 'valid_result',\n",
      " 'write_results_to_hide']\n"
     ]
    }
   ],
   "source": [
    "pprint(dir(slither_obj))"
   ]
  },
  {
   "cell_type": "code",
   "execution_count": null,
   "id": "fd227f62",
   "metadata": {},
   "outputs": [],
   "source": []
  }
 ],
 "metadata": {
  "kernelspec": {
   "display_name": "Python 3 (ipykernel)",
   "language": "python",
   "name": "python3"
  },
  "language_info": {
   "codemirror_mode": {
    "name": "ipython",
    "version": 3
   },
   "file_extension": ".py",
   "mimetype": "text/x-python",
   "name": "python",
   "nbconvert_exporter": "python",
   "pygments_lexer": "ipython3",
   "version": "3.9.10"
  }
 },
 "nbformat": 4,
 "nbformat_minor": 5
}
